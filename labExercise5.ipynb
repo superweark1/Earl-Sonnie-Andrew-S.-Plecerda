{
  "nbformat": 4,
  "nbformat_minor": 0,
  "metadata": {
    "colab": {
      "provenance": [],
      "mount_file_id": "1RyuO3tpjvbBsvne-ROvKgArcJAdmTpr6",
      "authorship_tag": "ABX9TyNP8AYy/PWX4X24hn6MDNDY",
      "include_colab_link": true
    },
    "kernelspec": {
      "name": "python3",
      "display_name": "Python 3"
    },
    "language_info": {
      "name": "python"
    }
  },
  "cells": [
    {
      "cell_type": "markdown",
      "metadata": {
        "id": "view-in-github",
        "colab_type": "text"
      },
      "source": [
        "<a href=\"https://colab.research.google.com/github/superweark1/Earl-Sonnie-Andrew-S.-Plecerda/blob/main/labExercise5.ipynb\" target=\"_parent\"><img src=\"https://colab.research.google.com/assets/colab-badge.svg\" alt=\"Open In Colab\"/></a>"
      ]
    },
    {
      "cell_type": "code",
      "source": [
        "import matplotlib.pyplot as plt\n",
        "import numpy as np\n",
        "import PIL\n",
        "import tensorflow as tf\n",
        "\n",
        "from tensorflow import keras\n",
        "from tensorflow.keras import layers\n",
        "from tensorflow.keras.models import Sequential"
      ],
      "metadata": {
        "id": "eac_SG89ZnIG"
      },
      "execution_count": 1,
      "outputs": []
    },
    {
      "cell_type": "code",
      "source": [
        "from google.colab import drive\n",
        "import os\n",
        "\n",
        "# Mount Google Drive\n",
        "drive.mount('/content/drive')\n",
        "\n",
        "# Define the directories containing the images\n",
        "image_dirs = ['/content/drive/MyDrive/labExercise5']\n",
        "\n",
        "# Function to count images\n",
        "def count_images(directory):\n",
        "    count = 0\n",
        "    for filename in os.listdir(directory):\n",
        "        if filename.endswith('.jpg') or filename.endswith('.jpeg') or filename.endswith('.png') or filename.endswith('.gif'):\n",
        "            count += 1\n",
        "    return count\n",
        "\n",
        "# Count images in each directory\n",
        "for directory in image_dirs:\n",
        "    image_count = count_images(directory)\n",
        "    print(f\"Number of images in {directory}: {image_count}\")\n"
      ],
      "metadata": {
        "colab": {
          "base_uri": "https://localhost:8080/"
        },
        "id": "-BkhvpgWhcjU",
        "outputId": "56d366da-ddb2-49e6-c108-e4a6bcb61b7b"
      },
      "execution_count": 83,
      "outputs": [
        {
          "output_type": "stream",
          "name": "stdout",
          "text": [
            "Drive already mounted at /content/drive; to attempt to forcibly remount, call drive.mount(\"/content/drive\", force_remount=True).\n",
            "Number of images in /content/drive/MyDrive/labExercise5: 74\n"
          ]
        }
      ]
    },
    {
      "cell_type": "code",
      "source": [
        "import pathlib\n",
        "\n",
        "# Define the path to your dataset directory in Google Drive\n",
        "data_dir = pathlib.Path('/content/drive/MyDrive/labExercise5')\n",
        "\n",
        "# List image files with .jpg extension\n",
        "jpg_image_paths = list(data_dir.glob('*.jpg'))\n",
        "\n",
        "# List image files with .jpeg extension\n",
        "jpeg_image_paths = list(data_dir.glob('*.jpeg'))\n",
        "\n",
        "# Combine both lists to get paths of all image files with .jpg and .jpeg extensions\n",
        "image_paths = jpg_image_paths + jpeg_image_paths\n",
        "image_count = len(jpeg_image_paths) + len(jpg_image_paths)\n",
        "\n",
        "print(\"Total Number of JPG and JPEG Images:\", image_count)\n"
      ],
      "metadata": {
        "colab": {
          "base_uri": "https://localhost:8080/"
        },
        "id": "3HNh7uCV1P8h",
        "outputId": "de669a89-ffde-4ece-e5bf-09d9839cab0f"
      },
      "execution_count": 84,
      "outputs": [
        {
          "output_type": "stream",
          "name": "stdout",
          "text": [
            "Total Number of JPG and JPEG Images: 74\n"
          ]
        }
      ]
    },
    {
      "cell_type": "code",
      "source": [
        "batch_size = 32\n",
        "img_height = 180\n",
        "img_width = 180"
      ],
      "metadata": {
        "id": "h8xckhuUiatJ"
      },
      "execution_count": 67,
      "outputs": []
    },
    {
      "cell_type": "code",
      "source": [
        "# Define the path to the image of yourself not used in training\n",
        "image_of_myself_path = '/content/drive/MyDrive/labExercise5/1714572521981.jpeg'\n",
        "\n",
        "# Predict the label for the image of yourself\n",
        "label_myself = predict_image_label(image_of_myself_path)\n",
        "\n",
        "# Print the predicted label\n",
        "print(\"Predicted label for image of myself:\", label_myself)\n"
      ],
      "metadata": {
        "colab": {
          "base_uri": "https://localhost:8080/"
        },
        "id": "bLh2fwNMiV05",
        "outputId": "4f53b793-1464-4f76-855f-5eb76a4df064"
      },
      "execution_count": 70,
      "outputs": [
        {
          "output_type": "stream",
          "name": "stdout",
          "text": [
            "Predicted label for image of myself: placeholder_label\n"
          ]
        }
      ]
    },
    {
      "cell_type": "code",
      "source": [
        "# Define the path to the image of your pair not used in training\n",
        "image_of_my_pair_path = '/content/drive/MyDrive/labExercise5/1714572521972.jpeg'\n",
        "\n",
        "# Predict the label for the image of your pair\n",
        "label_my_pair = predict_image_label(image_of_my_pair_path)\n",
        "\n",
        "# Print the predicted label\n",
        "print(\"Predicted label for image of my pair:\", label_my_pair)\n"
      ],
      "metadata": {
        "colab": {
          "base_uri": "https://localhost:8080/"
        },
        "id": "D8fClhQ0nrWA",
        "outputId": "0803dbfc-2a20-4fc9-f2da-efb87897b17b"
      },
      "execution_count": 86,
      "outputs": [
        {
          "output_type": "stream",
          "name": "stdout",
          "text": [
            "Predicted label for image of my pair: placeholder_label\n"
          ]
        }
      ]
    },
    {
      "cell_type": "code",
      "source": [
        "# Define the path to the image of an unknown person not used in training\n",
        "image_of_unknown_person_path = '/content/drive/MyDrive/labExercise5/images.jpg'\n",
        "\n",
        "# Predict the label for the image of an unknown person\n",
        "label_unknown_person = predict_image_label(image_of_unknown_person_path)\n",
        "\n",
        "# Print the predicted label\n",
        "print(\"Predicted label for image of unknown person:\", label_unknown_person)\n"
      ],
      "metadata": {
        "colab": {
          "base_uri": "https://localhost:8080/"
        },
        "id": "t9eJB1cuoYFu",
        "outputId": "cb88639a-5a8d-45eb-c3ee-fd2863f70005"
      },
      "execution_count": 87,
      "outputs": [
        {
          "output_type": "stream",
          "name": "stdout",
          "text": [
            "Predicted label for image of unknown person: placeholder_label\n"
          ]
        }
      ]
    },
    {
      "cell_type": "code",
      "source": [
        "\n",
        "image_of_myself_path = '/content/drive/MyDrive/labExercise5/1714572521987.jpeg'\n",
        "image_of_my_pair_path = '/content/drive/MyDrive/labExercise5/1714572521942.jpeg'\n",
        "image_of_unknown_person_path = '/content/drive/MyDrive/labExercise5/images.jpg'\n",
        "\n",
        "\n",
        "label_myself = predict_image_label(image_of_myself_path)\n",
        "label_my_pair = predict_image_label(image_of_my_pair_path)\n",
        "label_unknown_person = predict_image_label(image_of_unknown_person_path)\n",
        "\n",
        "\n",
        "print(\"Predicted label for image of myself:\", label_myself)\n",
        "print(\"Predicted label for image of my pair:\", label_my_pair)\n",
        "print(\"Predicted label for image of unknown person:\", label_unknown_person)\n"
      ],
      "metadata": {
        "colab": {
          "base_uri": "https://localhost:8080/"
        },
        "id": "aHuEJNlEqJ_2",
        "outputId": "2e5ae1fc-141f-4317-a8b2-caab84f1a3e4"
      },
      "execution_count": 90,
      "outputs": [
        {
          "output_type": "stream",
          "name": "stdout",
          "text": [
            "Predicted label for image of myself: placeholder_label\n",
            "Predicted label for image of my pair: placeholder_label\n",
            "Predicted label for image of unknown person: placeholder_label\n"
          ]
        }
      ]
    }
  ]
}