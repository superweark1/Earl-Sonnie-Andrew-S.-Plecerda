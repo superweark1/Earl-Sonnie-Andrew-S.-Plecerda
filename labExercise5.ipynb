{
  "cells": [
    {
      "cell_type": "markdown",
      "metadata": {
        "id": "view-in-github",
        "colab_type": "text"
      },
      "source": [
        "<a href=\"https://colab.research.google.com/github/superweark1/Earl-Sonnie-Andrew-S.-Plecerda/blob/main/labExercise5.ipynb\" target=\"_parent\"><img src=\"https://colab.research.google.com/assets/colab-badge.svg\" alt=\"Open In Colab\"/></a>"
      ]
    },
    {
      "cell_type": "code",
      "execution_count": 117,
      "metadata": {
        "id": "eac_SG89ZnIG"
      },
      "outputs": [],
      "source": [
        "import matplotlib.pyplot as plt\n",
        "import numpy as np\n",
        "import PIL\n",
        "import tensorflow as tf\n",
        "\n",
        "from tensorflow import keras\n",
        "from tensorflow.keras import layers\n",
        "from tensorflow.keras.models import Sequential"
      ]
    },
    {
      "cell_type": "code",
      "execution_count": null,
      "metadata": {
        "colab": {
          "base_uri": "https://localhost:8080/"
        },
        "id": "-BkhvpgWhcjU",
        "outputId": "56d366da-ddb2-49e6-c108-e4a6bcb61b7b"
      },
      "outputs": [
        {
          "name": "stdout",
          "output_type": "stream",
          "text": [
            "Drive already mounted at /content/drive; to attempt to forcibly remount, call drive.mount(\"/content/drive\", force_remount=True).\n",
            "Number of images in /content/drive/MyDrive/labExercise5: 74\n"
          ]
        }
      ],
      "source": [
        "from google.colab import drive\n",
        "import os\n",
        "\n",
        "# Mount Google Drive\n",
        "drive.mount('/content/drive')\n",
        "\n",
        "# Define the directories containing the images\n",
        "image_dirs = ['/content/drive/MyDrive/labExercise5']\n",
        "\n",
        "# Function to count images\n",
        "def count_images(directory):\n",
        "    count = 0\n",
        "    for filename in os.listdir(directory):\n",
        "        if filename.endswith('.jpg') or filename.endswith('.jpeg') or filename.endswith('.png') or filename.endswith('.gif'):\n",
        "            count += 1\n",
        "    return count\n",
        "\n",
        "# Count images in each directory\n",
        "for directory in image_dirs:\n",
        "    image_count = count_images(directory)\n",
        "    print(f\"Number of images in {directory}: {image_count}\")\n"
      ]
    },
    {
      "cell_type": "code",
      "execution_count": null,
      "metadata": {
        "colab": {
          "base_uri": "https://localhost:8080/"
        },
        "id": "3HNh7uCV1P8h",
        "outputId": "de669a89-ffde-4ece-e5bf-09d9839cab0f"
      },
      "outputs": [
        {
          "name": "stdout",
          "output_type": "stream",
          "text": [
            "Total Number of JPG and JPEG Images: 74\n"
          ]
        }
      ],
      "source": [
        "import pathlib\n",
        "\n",
        "# Define the path to your dataset directory in Google Drive\n",
        "data_dir = pathlib.Path('/content/drive/MyDrive/labExercise5')\n",
        "\n",
        "# List image files with .jpg extension\n",
        "jpg_image_paths = list(data_dir.glob('*.jpg'))\n",
        "\n",
        "# List image files with .jpeg extension\n",
        "jpeg_image_paths = list(data_dir.glob('*.jpeg'))\n",
        "\n",
        "# Combine both lists to get paths of all image files with .jpg and .jpeg extensions\n",
        "image_paths = jpg_image_paths + jpeg_image_paths\n",
        "image_count = len(jpeg_image_paths) + len(jpg_image_paths)\n",
        "\n",
        "print(\"Total Number of JPG and JPEG Images:\", image_count)\n"
      ]
    },
    {
      "cell_type": "code",
      "execution_count": null,
      "metadata": {
        "id": "h8xckhuUiatJ"
      },
      "outputs": [],
      "source": [
        "batch_size = 32\n",
        "img_height = 180\n",
        "img_width = 180"
      ]
    },
    {
      "cell_type": "code",
      "execution_count": null,
      "metadata": {
        "colab": {
          "base_uri": "https://localhost:8080/"
        },
        "id": "bLh2fwNMiV05",
        "outputId": "4f53b793-1464-4f76-855f-5eb76a4df064"
      },
      "outputs": [
        {
          "name": "stdout",
          "output_type": "stream",
          "text": [
            "Predicted label for image of myself: placeholder_label\n"
          ]
        }
      ],
      "source": [
        "# Define the path to the image of yourself not used in training\n",
        "image_of_myself_path = '/content/drive/MyDrive/labExercise5/1714572521981.jpeg'\n",
        "\n",
        "# Predict the label for the image of yourself\n",
        "label_myself = predict_image_label(image_of_myself_path)\n",
        "\n",
        "# Print the predicted label\n",
        "print(\"Predicted label for image of myself:\", label_myself)\n"
      ]
    },
    {
      "cell_type": "code",
      "execution_count": null,
      "metadata": {
        "colab": {
          "base_uri": "https://localhost:8080/"
        },
        "id": "D8fClhQ0nrWA",
        "outputId": "0803dbfc-2a20-4fc9-f2da-efb87897b17b"
      },
      "outputs": [
        {
          "name": "stdout",
          "output_type": "stream",
          "text": [
            "Predicted label for image of my pair: placeholder_label\n"
          ]
        }
      ],
      "source": [
        "# Define the path to the image of your pair not used in training\n",
        "image_of_my_pair_path = '/content/drive/MyDrive/labExercise5/1714572521972.jpeg'\n",
        "\n",
        "# Predict the label for the image of your pair\n",
        "label_my_pair = predict_image_label(image_of_my_pair_path)\n",
        "\n",
        "# Print the predicted label\n",
        "print(\"Predicted label for image of my pair:\", label_my_pair)\n"
      ]
    },
    {
      "cell_type": "code",
      "execution_count": null,
      "metadata": {
        "colab": {
          "base_uri": "https://localhost:8080/"
        },
        "id": "t9eJB1cuoYFu",
        "outputId": "cb88639a-5a8d-45eb-c3ee-fd2863f70005"
      },
      "outputs": [
        {
          "name": "stdout",
          "output_type": "stream",
          "text": [
            "Predicted label for image of unknown person: placeholder_label\n"
          ]
        }
      ],
      "source": [
        "# Define the path to the image of an unknown person not used in training\n",
        "image_of_unknown_person_path = '/content/drive/MyDrive/labExercise5/images.jpg'\n",
        "\n",
        "# Predict the label for the image of an unknown person\n",
        "label_unknown_person = predict_image_label(image_of_unknown_person_path)\n",
        "\n",
        "# Print the predicted label\n",
        "print(\"Predicted label for image of unknown person:\", label_unknown_person)\n"
      ]
    },
    {
      "cell_type": "code",
      "execution_count": null,
      "metadata": {
        "colab": {
          "base_uri": "https://localhost:8080/"
        },
        "id": "aHuEJNlEqJ_2",
        "outputId": "2e5ae1fc-141f-4317-a8b2-caab84f1a3e4"
      },
      "outputs": [
        {
          "name": "stdout",
          "output_type": "stream",
          "text": [
            "Predicted label for image of myself: placeholder_label\n",
            "Predicted label for image of my pair: placeholder_label\n",
            "Predicted label for image of unknown person: placeholder_label\n"
          ]
        }
      ],
      "source": [
        "\n",
        "image_of_myself_path = '/content/drive/MyDrive/labExercise5/1714572521987.jpeg'\n",
        "image_of_my_pair_path = '/content/drive/MyDrive/labExercise5/1714572521942.jpeg'\n",
        "image_of_unknown_person_path = '/content/drive/MyDrive/labExercise5/images.jpg'\n",
        "\n",
        "\n",
        "label_myself = predict_image_label(image_of_myself_path)\n",
        "label_my_pair = predict_image_label(image_of_my_pair_path)\n",
        "label_unknown_person = predict_image_label(image_of_unknown_person_path)\n",
        "\n",
        "\n",
        "print(\"Predicted label for image of myself:\", label_myself)\n",
        "print(\"Predicted label for image of my pair:\", label_my_pair)\n",
        "print(\"Predicted label for image of unknown person:\", label_unknown_person)\n"
      ]
    },
    {
      "cell_type": "code",
      "execution_count": null,
      "metadata": {
        "colab": {
          "base_uri": "https://localhost:8080/"
        },
        "id": "1Aa_7TLwrb3N",
        "outputId": "51528059-7c05-4d59-ab36-7c447a8a1ab9"
      },
      "outputs": [
        {
          "name": "stdout",
          "output_type": "stream",
          "text": [
            "Found 73 images belonging to 2 classes.\n",
            "{'Dixie_pic': 0, 'Sonnie_pic': 1}\n"
          ]
        }
      ],
      "source": [
        "import numpy as np\n",
        "import matplotlib.pyplot as plt\n",
        "from keras.preprocessing.image import ImageDataGenerator\n",
        "from keras.models import Sequential\n",
        "from keras.layers import Conv2D, MaxPooling2D, Flatten, Dense\n",
        "\n",
        "# Define data augmentation parameters\n",
        "datagen = ImageDataGenerator(\n",
        "    rotation_range=40,\n",
        "    width_shift_range=0.2,\n",
        "    height_shift_range=0.2,\n",
        "    shear_range=0.2,\n",
        "    zoom_range=0.2,\n",
        "    horizontal_flip=True,\n",
        "    fill_mode='nearest')\n",
        "\n",
        "# Load and preprocess your dataset\n",
        "train_generator = datagen.flow_from_directory(\n",
        "    '/content/drive/MyDrive/labExercise5',  # directory containing your images\n",
        "    target_size=(150, 150),  # resize images to 150x150\n",
        "    batch_size=32,\n",
        "    class_mode='binary')  # assuming binary classification\n",
        "\n",
        "# Confirm the classes found by the generator\n",
        "print(train_generator.class_indices)\n",
        "\n",
        "# Build your model\n",
        "model = Sequential([\n",
        "    Conv2D(32, (3, 3), activation='relu', input_shape=(150, 150, 3)),\n",
        "    MaxPooling2D(2, 2),\n",
        "    Conv2D(64, (3, 3), activation='relu'),\n",
        "    MaxPooling2D(2, 2),\n",
        "    Conv2D(128, (3, 3), activation='relu'),\n",
        "    MaxPooling2D(2, 2),\n",
        "    Conv2D(128, (3, 3), activation='relu'),\n",
        "    MaxPooling2D(2, 2),\n",
        "    Flatten(),\n",
        "    Dense(512, activation='relu'),\n",
        "    Dense(1, activation='sigmoid')\n",
        "])\n",
        "\n",
        "# Compile the model\n",
        "model.compile(loss='binary_crossentropy',\n",
        "              optimizer='adam',\n",
        "              metrics=['accuracy'])\n",
        "\n",
        "\n",
        "\n"
      ]
    },
    {
      "cell_type": "code",
      "execution_count": null,
      "metadata": {
        "colab": {
          "background_save": true
        },
        "id": "3RfWmmqrtG5t",
        "outputId": "6d41fecb-5460-4b44-9777-aca10e9fda40"
      },
      "outputs": [
        {
          "ename": "UnidentifiedImageError",
          "evalue": "cannot identify image file <_io.BytesIO object at 0x7ac0b77f25c0>",
          "output_type": "error",
          "traceback": [
            "\u001b[0;31m---------------------------------------------------------------------------\u001b[0m",
            "\u001b[0;31mUnidentifiedImageError\u001b[0m                    Traceback (most recent call last)",
            "\u001b[0;32m<ipython-input-110-33ddbf64cd96>\u001b[0m in \u001b[0;36m<cell line: 1>\u001b[0;34m()\u001b[0m\n\u001b[0;32m----> 1\u001b[0;31m history = model.fit(\n\u001b[0m\u001b[1;32m      2\u001b[0m     \u001b[0mtrain_generator\u001b[0m\u001b[0;34m,\u001b[0m\u001b[0;34m\u001b[0m\u001b[0;34m\u001b[0m\u001b[0m\n\u001b[1;32m      3\u001b[0m     \u001b[0msteps_per_epoch\u001b[0m\u001b[0;34m=\u001b[0m\u001b[0mlen\u001b[0m\u001b[0;34m(\u001b[0m\u001b[0mtrain_generator\u001b[0m\u001b[0;34m)\u001b[0m\u001b[0;34m,\u001b[0m  \u001b[0;31m# number of batches per epoch\u001b[0m\u001b[0;34m\u001b[0m\u001b[0;34m\u001b[0m\u001b[0m\n\u001b[1;32m      4\u001b[0m     epochs=10)  # you may adjust the number of epochs\n\u001b[1;32m      5\u001b[0m \u001b[0;34m\u001b[0m\u001b[0m\n",
            "\u001b[0;32m/usr/local/lib/python3.10/dist-packages/keras/src/utils/traceback_utils.py\u001b[0m in \u001b[0;36merror_handler\u001b[0;34m(*args, **kwargs)\u001b[0m\n\u001b[1;32m     68\u001b[0m             \u001b[0;31m# To get the full stack trace, call:\u001b[0m\u001b[0;34m\u001b[0m\u001b[0;34m\u001b[0m\u001b[0m\n\u001b[1;32m     69\u001b[0m             \u001b[0;31m# `tf.debugging.disable_traceback_filtering()`\u001b[0m\u001b[0;34m\u001b[0m\u001b[0;34m\u001b[0m\u001b[0m\n\u001b[0;32m---> 70\u001b[0;31m             \u001b[0;32mraise\u001b[0m \u001b[0me\u001b[0m\u001b[0;34m.\u001b[0m\u001b[0mwith_traceback\u001b[0m\u001b[0;34m(\u001b[0m\u001b[0mfiltered_tb\u001b[0m\u001b[0;34m)\u001b[0m \u001b[0;32mfrom\u001b[0m \u001b[0;32mNone\u001b[0m\u001b[0;34m\u001b[0m\u001b[0;34m\u001b[0m\u001b[0m\n\u001b[0m\u001b[1;32m     71\u001b[0m         \u001b[0;32mfinally\u001b[0m\u001b[0;34m:\u001b[0m\u001b[0;34m\u001b[0m\u001b[0;34m\u001b[0m\u001b[0m\n\u001b[1;32m     72\u001b[0m             \u001b[0;32mdel\u001b[0m \u001b[0mfiltered_tb\u001b[0m\u001b[0;34m\u001b[0m\u001b[0;34m\u001b[0m\u001b[0m\n",
            "\u001b[0;32m/usr/local/lib/python3.10/dist-packages/PIL/Image.py\u001b[0m in \u001b[0;36mopen\u001b[0;34m(fp, mode, formats)\u001b[0m\n\u001b[1;32m   3281\u001b[0m         \u001b[0mwarnings\u001b[0m\u001b[0;34m.\u001b[0m\u001b[0mwarn\u001b[0m\u001b[0;34m(\u001b[0m\u001b[0mmessage\u001b[0m\u001b[0;34m)\u001b[0m\u001b[0;34m\u001b[0m\u001b[0;34m\u001b[0m\u001b[0m\n\u001b[1;32m   3282\u001b[0m     \u001b[0mmsg\u001b[0m \u001b[0;34m=\u001b[0m \u001b[0;34m\"cannot identify image file %r\"\u001b[0m \u001b[0;34m%\u001b[0m \u001b[0;34m(\u001b[0m\u001b[0mfilename\u001b[0m \u001b[0;32mif\u001b[0m \u001b[0mfilename\u001b[0m \u001b[0;32melse\u001b[0m \u001b[0mfp\u001b[0m\u001b[0;34m)\u001b[0m\u001b[0;34m\u001b[0m\u001b[0;34m\u001b[0m\u001b[0m\n\u001b[0;32m-> 3283\u001b[0;31m     \u001b[0;32mraise\u001b[0m \u001b[0mUnidentifiedImageError\u001b[0m\u001b[0;34m(\u001b[0m\u001b[0mmsg\u001b[0m\u001b[0;34m)\u001b[0m\u001b[0;34m\u001b[0m\u001b[0;34m\u001b[0m\u001b[0m\n\u001b[0m\u001b[1;32m   3284\u001b[0m \u001b[0;34m\u001b[0m\u001b[0m\n\u001b[1;32m   3285\u001b[0m \u001b[0;34m\u001b[0m\u001b[0m\n",
            "\u001b[0;31mUnidentifiedImageError\u001b[0m: cannot identify image file <_io.BytesIO object at 0x7ac0b77f25c0>"
          ]
        }
      ],
      "source": [
        "history = model.fit(\n",
        "    train_generator,\n",
        "    steps_per_epoch=len(train_generator),  # number of batches per epoch\n",
        "    epochs=10)  # you may adjust the number of epochs\n",
        "\n",
        "# Test the model with your images\n",
        "test_images = ['1714572521987.jpeg', '1714572521942.jpeg', 'images.jpg']\n",
        "\n",
        "for image_path in test_images:\n",
        "    img = plt.imread(image_path)\n",
        "    img = np.expand_dims(img, axis=0)  # Add batch dimension\n",
        "    img = img / 255.0  # Normalize pixel values\n",
        "    prediction = model.predict(img)\n",
        "    if prediction > 0.5:\n",
        "        print(f\"{image_path}: Predicted class - Yourself\")\n",
        "    else:\n",
        "        print(f\"{image_path}: Predicted class - Unknown\")"
      ]
    }
  ],
  "metadata": {
    "colab": {
      "provenance": [],
      "mount_file_id": "1RyuO3tpjvbBsvne-ROvKgArcJAdmTpr6",
      "authorship_tag": "ABX9TyPnGxg2FwtwrPOUoTR2N5Zk",
      "include_colab_link": true
    },
    "kernelspec": {
      "display_name": "Python 3",
      "name": "python3"
    },
    "language_info": {
      "name": "python"
    }
  },
  "nbformat": 4,
  "nbformat_minor": 0
}